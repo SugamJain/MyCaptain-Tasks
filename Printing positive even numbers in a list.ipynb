{
 "cells": [
  {
   "cell_type": "code",
   "execution_count": 5,
   "metadata": {},
   "outputs": [
    {
     "name": "stdout",
     "output_type": "stream",
     "text": [
      "Enter number of elements : 5\n",
      "1\n",
      "2\n",
      "-2\n",
      "14\n",
      "-10\n",
      "the required list is: [1, 2, -2, 14, -10]\n",
      "the even numbers in the list are:\n",
      "2\n",
      "14\n"
     ]
    }
   ],
   "source": [
    "my_list = [] \n",
    "  \n",
    "n = int(input(\"Enter number of elements : \")) \n",
    "  \n",
    "for i in range(0, n): \n",
    "    x = int(input()) \n",
    "  \n",
    "    my_list.append(x) \n",
    "      \n",
    "print(\"the required list is:\" , my_list) \n",
    "print(\"the even numbers in the list are:\")\n",
    "for num in my_list:\n",
    "    if num%2 == 0 and num>0:\n",
    "        print(num)\n"
   ]
  },
  {
   "cell_type": "code",
   "execution_count": null,
   "metadata": {},
   "outputs": [],
   "source": []
  }
 ],
 "metadata": {
  "kernelspec": {
   "display_name": "Python 3",
   "language": "python",
   "name": "python3"
  },
  "language_info": {
   "codemirror_mode": {
    "name": "ipython",
    "version": 3
   },
   "file_extension": ".py",
   "mimetype": "text/x-python",
   "name": "python",
   "nbconvert_exporter": "python",
   "pygments_lexer": "ipython3",
   "version": "3.7.6"
  }
 },
 "nbformat": 4,
 "nbformat_minor": 4
}
