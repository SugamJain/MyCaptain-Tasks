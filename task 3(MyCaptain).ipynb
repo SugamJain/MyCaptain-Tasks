{
 "cells": [
  {
   "cell_type": "code",
   "execution_count": 4,
   "metadata": {},
   "outputs": [
    {
     "name": "stdout",
     "output_type": "stream",
     "text": [
      "[1, 2.5, -3, 0.4]\n",
      "['a', 't', 'h', 'g', 'd']\n"
     ]
    }
   ],
   "source": [
    "#Assigning elements to different lists\n",
    "numlist = [1,2.5,-3,0.4]\n",
    "alphabetlist = ['a','t','h','g','d']\n",
    "print(numlist)\n",
    "print(alphabetlist)"
   ]
  },
  {
   "cell_type": "code",
   "execution_count": 8,
   "metadata": {},
   "outputs": [
    {
     "name": "stdout",
     "output_type": "stream",
     "text": [
      "(3, 4, 5, 6, 7)\n",
      "10\n",
      "(1, 2, 3, 4, 5, 6, 7, 8, 9, 10)\n"
     ]
    }
   ],
   "source": [
    "#Accessing elements from a tuple\n",
    "tuple1 = (1,2,3,4,5,6,7,8,9,10)\n",
    "#suppose we want to access the following elements\n",
    "#from index position 2 to 7\n",
    "print(tuple1[2:7])\n",
    "\n",
    "#element of position 9\n",
    "print(tuple1[9])\n",
    "\n",
    "#all the elements\n",
    "print(tuple1)"
   ]
  },
  {
   "cell_type": "code",
   "execution_count": 9,
   "metadata": {},
   "outputs": [
    {
     "name": "stdout",
     "output_type": "stream",
     "text": [
      "the original dictionary is: {'soham': 98, 'atul': 100, 'pranay': 97, 'aryan': 100}\n",
      "the new dictionary is: {'soham': 98, 'pranay': 97, 'aryan': 100}\n"
     ]
    }
   ],
   "source": [
    "#deleting diferent dictionary ellements\n",
    "\n",
    "marks_dict = {\"soham\" :98 , \"atul\":100 , \"pranay\": 97 , \"aryan\": 100}\n",
    "print(\"the original dictionary is:\" , marks_dict)\n",
    "del marks_dict['atul']\n",
    "print(\"the new dictionary is:\" , marks_dict)\n"
   ]
  },
  {
   "cell_type": "code",
   "execution_count": null,
   "metadata": {},
   "outputs": [],
   "source": []
  }
 ],
 "metadata": {
  "kernelspec": {
   "display_name": "Python 3",
   "language": "python",
   "name": "python3"
  },
  "language_info": {
   "codemirror_mode": {
    "name": "ipython",
    "version": 3
   },
   "file_extension": ".py",
   "mimetype": "text/x-python",
   "name": "python",
   "nbconvert_exporter": "python",
   "pygments_lexer": "ipython3",
   "version": "3.7.6"
  }
 },
 "nbformat": 4,
 "nbformat_minor": 4
}
